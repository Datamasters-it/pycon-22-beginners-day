{
 "cells": [
  {
   "cell_type": "markdown",
   "id": "ffda08fa",
   "metadata": {},
   "source": [
    "## Teoria: operatori, operandi e variabili\n"
   ]
  },
  {
   "cell_type": "code",
   "execution_count": 19,
   "id": "141ba1a2",
   "metadata": {},
   "outputs": [
    {
     "name": "stdout",
     "output_type": "stream",
     "text": [
      "13\n",
      "HelloWorld\n",
      "Hello World\n",
      "HelloWorld\n",
      "Quoziente intero 0\n",
      "Espressione complessa con parentesi 256\n",
      "24\n",
      "4.5\n",
      "<class 'float'>\n"
     ]
    }
   ],
   "source": [
    "print(8 + 5)\n",
    "\n",
    "print(\"Hello\" + \"World\")\n",
    "print(\"Hello\", \"World\")\n",
    "\n",
    "a = \"Hello\"\n",
    "b = \"World\"\n",
    "print(a + b)\n",
    "# print(A + b) -> NameError\n",
    "\n",
    "a = 2 \n",
    "b = 4\n",
    "\n",
    "print(\"Quoziente intero\", a // b)\n",
    "print(\"Espressione complessa con parentesi\", (3 + 1) ** b)\n",
    "\n",
    "\n",
    "c = (2 + 5) ** 2 // 2\n",
    "print(c) # Come è stato ottenuto? Prima (2 + 5), e poi in ordine -> 7 ** 2 e poi 49 // 2 = 24\n",
    "\n",
    "\n",
    "f = 9 / 2\n",
    "\n",
    "print(f)\n",
    "print(type(f))\n",
    "\n"
   ]
  },
  {
   "cell_type": "code",
   "execution_count": 28,
   "id": "e4109a3a",
   "metadata": {},
   "outputs": [
    {
     "name": "stdout",
     "output_type": "stream",
     "text": [
      "hello\n",
      "hello\n",
      "Giuseppe\n",
      "<class 'str'>\n",
      "55 is a string\n",
      "<class 'float'>\n",
      "<class 'float'>\n",
      "67.0\n"
     ]
    }
   ],
   "source": [
    "s = \"hello\"\n",
    "print(s)\n",
    "\n",
    "s = 'hello'\n",
    "print(s)\n",
    "\n",
    "# print(hello) NameError\n",
    "hello = \"Giuseppe\"\n",
    "print(hello)\n",
    "\n",
    "s = \"55\"\n",
    "print(type(s))\n",
    "\n",
    "print(s + \" is a string\")\n",
    "\n",
    "n = float(s)\n",
    "print(type(n))\n",
    "r = n + 12\n",
    "print(r)\n",
    "print(type(r))"
   ]
  },
  {
   "cell_type": "code",
   "execution_count": null,
   "id": "afbcc4b7",
   "metadata": {},
   "outputs": [],
   "source": []
  }
 ],
 "metadata": {
  "kernelspec": {
   "display_name": "Python 3 (ipykernel)",
   "language": "python",
   "name": "python3"
  },
  "language_info": {
   "codemirror_mode": {
    "name": "ipython",
    "version": 3
   },
   "file_extension": ".py",
   "mimetype": "text/x-python",
   "name": "python",
   "nbconvert_exporter": "python",
   "pygments_lexer": "ipython3",
   "version": "3.9.10"
  }
 },
 "nbformat": 4,
 "nbformat_minor": 5
}
